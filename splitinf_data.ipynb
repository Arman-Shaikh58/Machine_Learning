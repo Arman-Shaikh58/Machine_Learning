{
 "cells": [
  {
   "cell_type": "code",
   "execution_count": 1,
   "id": "9df720d8",
   "metadata": {},
   "outputs": [],
   "source": [
    "import splitfolders"
   ]
  },
  {
   "cell_type": "code",
   "execution_count": 4,
   "id": "a0e91f21",
   "metadata": {},
   "outputs": [],
   "source": [
    "input_folder = \"number_dataset\"\n",
    "output_folder = \"number_dataset_output\"\n"
   ]
  },
  {
   "cell_type": "markdown",
   "id": "0830ba4c",
   "metadata": {},
   "source": [
    "## This divides Dataset into Parts Train, Test and Validation"
   ]
  },
  {
   "cell_type": "markdown",
   "id": "d04637cd",
   "metadata": {},
   "source": [
    "but the folder we are passing should contain data in folders"
   ]
  },
  {
   "cell_type": "code",
   "execution_count": 5,
   "id": "6a1324a8",
   "metadata": {},
   "outputs": [],
   "source": [
    "splitfolders.ratio(\n",
    "    input_folder,\n",
    "    output=output_folder,\n",
    "    seed=1337,        # random seed for reproducibility\n",
    "    ratio=(.7, .2, .1)  # train, val, test split ratio\n",
    ")"
   ]
  }
 ],
 "metadata": {
  "kernelspec": {
   "display_name": ".venv",
   "language": "python",
   "name": "python3"
  },
  "language_info": {
   "codemirror_mode": {
    "name": "ipython",
    "version": 3
   },
   "file_extension": ".py",
   "mimetype": "text/x-python",
   "name": "python",
   "nbconvert_exporter": "python",
   "pygments_lexer": "ipython3",
   "version": "3.13.5"
  }
 },
 "nbformat": 4,
 "nbformat_minor": 5
}
